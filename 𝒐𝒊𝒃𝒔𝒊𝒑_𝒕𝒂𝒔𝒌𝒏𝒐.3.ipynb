{
 "cells": [
  {
   "cell_type": "code",
   "execution_count": 1,
   "metadata": {},
   "outputs": [
    {
     "name": "stdout",
     "output_type": "stream",
     "text": [
      "Ayush's Car Price Prediction Results:\n",
      "Root Mean Squared Error: 0.92\n",
      "R-squared Score: 0.96\n",
      "\n",
      "Ayush's Feature Importance:\n",
      "         feature  importance\n",
      "1  Present_Price    0.879114\n",
      "0           Year    0.061026\n",
      "2     Driven_kms    0.037124\n",
      "5   Transmission    0.012367\n",
      "3      Fuel_Type    0.006441\n",
      "4   Selling_type    0.002714\n",
      "6          Owner    0.001213\n",
      "\n",
      "Ayush's Sample Prediction:\n",
      "Predicted Price: 0.44\n",
      "Actual Price: 0.35\n",
      "Difference: 0.09\n"
     ]
    },
    {
     "name": "stderr",
     "output_type": "stream",
     "text": [
      "c:\\Users\\ayush\\AppData\\Local\\Programs\\Python\\Python312\\Lib\\site-packages\\sklearn\\base.py:493: UserWarning: X does not have valid feature names, but RandomForestRegressor was fitted with feature names\n",
      "  warnings.warn(\n"
     ]
    }
   ],
   "source": [
    "\n",
    "import pandas as pd\n",
    "import numpy as np\n",
    "from sklearn.model_selection import train_test_split\n",
    "from sklearn.preprocessing import LabelEncoder\n",
    "from sklearn.ensemble import RandomForestRegressor\n",
    "from sklearn.metrics import mean_squared_error, r2_score\n",
    "\n",
    "# Ayush's data loading and preprocessing\n",
    "ayush_df = pd.read_csv('car data.csv')\n",
    "\n",
    "# Ayush's feature selection\n",
    "ayush_features = ['Year', 'Present_Price', 'Driven_kms', 'Fuel_Type', 'Selling_type', 'Transmission', 'Owner']\n",
    "ayush_target = 'Selling_Price'\n",
    "\n",
    "# Ayush's encoding categorical variables\n",
    "ayush_le = LabelEncoder()\n",
    "for feature in ['Fuel_Type', 'Selling_type', 'Transmission']:\n",
    "    ayush_df[feature] = ayush_le.fit_transform(ayush_df[feature])\n",
    "\n",
    "# Ayush's train-test split\n",
    "ayush_X = ayush_df[ayush_features]\n",
    "ayush_y = ayush_df[ayush_target]\n",
    "ayush_X_train, ayush_X_test, ayush_y_train, ayush_y_test = train_test_split(ayush_X, ayush_y, test_size=0.2, random_state=42)\n",
    "\n",
    "# Ayush's model training\n",
    "ayush_model = RandomForestRegressor(n_estimators=100, random_state=42)\n",
    "ayush_model.fit(ayush_X_train, ayush_y_train)\n",
    "\n",
    "# Ayush's predictions\n",
    "ayush_predictions = ayush_model.predict(ayush_X_test)\n",
    "\n",
    "# Ayush's model evaluation\n",
    "ayush_mse = mean_squared_error(ayush_y_test, ayush_predictions)\n",
    "ayush_rmse = np.sqrt(ayush_mse)\n",
    "ayush_r2 = r2_score(ayush_y_test, ayush_predictions)\n",
    "\n",
    "print(\"Ayush's Car Price Prediction Results:\")\n",
    "print(f\"Root Mean Squared Error: {ayush_rmse:.2f}\")\n",
    "print(f\"R-squared Score: {ayush_r2:.2f}\")\n",
    "\n",
    "# Ayush's feature importance analysis\n",
    "ayush_feature_importance = pd.DataFrame({\n",
    "    'feature': ayush_features,\n",
    "    'importance': ayush_model.feature_importances_\n",
    "}).sort_values('importance', ascending=False)\n",
    "\n",
    "print(\"\\nAyush's Feature Importance:\")\n",
    "print(ayush_feature_importance)\n",
    "\n",
    "# Ayush's sample prediction\n",
    "ayush_sample_car = ayush_X_test.iloc[0]\n",
    "ayush_predicted_price = ayush_model.predict([ayush_sample_car])[0]\n",
    "ayush_actual_price = ayush_y_test.iloc[0]\n",
    "\n",
    "print(\"\\nAyush's Sample Prediction:\")\n",
    "print(f\"Predicted Price: {ayush_predicted_price:.2f}\")\n",
    "print(f\"Actual Price: {ayush_actual_price:.2f}\")\n",
    "print(f\"Difference: {abs(ayush_predicted_price - ayush_actual_price):.2f}\")\n"
   ]
  },
  {
   "cell_type": "code",
   "execution_count": null,
   "metadata": {},
   "outputs": [],
   "source": []
  }
 ],
 "metadata": {
  "kernelspec": {
   "display_name": "Python 3",
   "language": "python",
   "name": "python3"
  },
  "language_info": {
   "codemirror_mode": {
    "name": "ipython",
    "version": 3
   },
   "file_extension": ".py",
   "mimetype": "text/x-python",
   "name": "python",
   "nbconvert_exporter": "python",
   "pygments_lexer": "ipython3",
   "version": "3.12.5"
  }
 },
 "nbformat": 4,
 "nbformat_minor": 2
}
